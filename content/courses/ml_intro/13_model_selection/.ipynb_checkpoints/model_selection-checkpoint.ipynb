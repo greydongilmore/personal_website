{
 "cells": [
  {
   "cell_type": "markdown",
   "metadata": {},
   "source": [
    "# Model selection\n",
    "\n",
    "It's all well and good to say that if we want to make good predictions, we should collect an enormous amount of data, so that we're able to use really complex models without overfitting. The trouble is that most scientists don't have the luxury of collecting data from 50,000 subjects every time they want to answer a research question.\n",
    "\n",
    "Are there other things we can do in order to improve our predictions? We've already seen how proper cross-validation methods can indirectly help us make better predictions by minimizing overfitting and obtaining saner estimates of our models' true generalization abilities. Now we'll explore steps we can take to directly improve predictions by choosing better estimators."
   ]
  }
 ],
 "metadata": {
  "kernelspec": {
   "display_name": "Python 3",
   "language": "python",
   "name": "python3"
  },
  "language_info": {
   "codemirror_mode": {
    "name": "ipython",
    "version": 3
   },
   "file_extension": ".py",
   "mimetype": "text/x-python",
   "name": "python",
   "nbconvert_exporter": "python",
   "pygments_lexer": "ipython3",
   "version": "3.7.3"
  }
 },
 "nbformat": 4,
 "nbformat_minor": 4
}
